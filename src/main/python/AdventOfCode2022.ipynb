{
 "cells": [
  {
   "cell_type": "markdown",
   "id": "59c71e7f",
   "metadata": {},
   "source": [
    "# Advent of Code 2022\n",
    "### This Notebook contains my python solutions for AdventOfCode 2022 event in the form of a story.\n",
    "\n",
    "With Christmas just around the corner, I was approached by the elves. Just like every year, they came up with yet another issue that required my assistance. Namely, was high time to embark on an annual journey to the middle of the jungle in a search for magical **star fruits**. The fruits would then be used as snacks for the reindeers during delivery of the gifts! The jungle is located on a remote island and most of the fruits grow in a grove in the middle of it. \n",
    "\n",
    "They reassured me very firmly that my presence is required as I was chosen to be a Guest of Honour. I reluctantly agreed and well-aware of the clumsiness of the elves who in the years prior managed to (lose keys to the Santa sleigh)[https://adventofcode.com/2021/day/1], (destroy the Printer of the Naughty or Nice List)[https://adventofcode.com/2017/day/1] or even (losing Santa stranded in the cosmos)[https://adventofcode.com/2019/day/1], decided to grab all the fruit I can find on the way...\n",
    "\n",
    "And, just like expected, the elves succeeded in turning this journey into a chore..\n",
    "\n",
    "## Day 1\n",
    "\n",
    "Time to start the journey! _As our boats approach land, the Elves begin taking inventory of their supplies. One important consideration is food - in particular, the number of Calories each Elf is carrying._ The input for that day looks as follows:\n",
    "```\n",
    "1000\n",
    "2000\n",
    "3000\n",
    "\n",
    "4000\n",
    "\n",
    "5000\n",
    "6000\n",
    "\n",
    "7000\n",
    "8000\n",
    "9000\n",
    "\n",
    "10000\n",
    "```\n",
    "So, the first elf carries three bags, with `1000`, `2000` and `3000` calories respectively, next one carries one bag with `4000` calories and so on. My task was to figure out the following:\n",
    "- **part one:** one of the elves carries the most calories. How many does he carry?\n",
    "- **part two:** how many calories are carried by the three elves, who carry the most calories?"
   ]
  },
  {
   "cell_type": "code",
   "execution_count": 5,
   "id": "f1f65f0b",
   "metadata": {
    "scrolled": true
   },
   "outputs": [
    {
     "name": "stdout",
     "output_type": "stream",
     "text": [
      "Part one:  72070\n",
      "Part two:  211805\n"
     ]
    }
   ],
   "source": [
    "INPUT = \"../resources/Day1Input.txt\"\n",
    "\n",
    "with open(INPUT) as f:\n",
    "    lines = [line.strip() for line in f]\n",
    "\n",
    "lines = ('\\n'.join(lines)).split('\\n\\n')\n",
    "result = []\n",
    "\n",
    "for elf in lines:\n",
    "    calories_sum = 0\n",
    "    for el in elf.split('\\n'):\n",
    "        calories_sum += int(el)\n",
    "    result.append(calories_sum)\n",
    "result = sorted(result)\n",
    "result = result[-3:]\n",
    "\n",
    "print(\"Part one: \", result[-1])\n",
    "print(\"Part two: \", sum(result))"
   ]
  },
  {
   "cell_type": "markdown",
   "id": "4c1b7445",
   "metadata": {},
   "source": [
    "As the inventory is sorted out, first boats approached the shore and I decided to take some rest until the elves figure out where the usual landing spot is.\n",
    "\n",
    "---\n",
    "## Day 2\n",
    "I was woken up by a quarrel. Since everybody knew where the snack tent is to be erected, everybody wanted to set up his own tent as close as possible. To calm down the ruckus, and figure out who gets the best spot, a game of **Rock, Paper, Scissors** was initiated. As a \"thank you\" gift for my help yesterday, **Frostbiteface**, a veteran elf, gave me a cheat book telling me how to play against the elves in order to get the most points. The book listed the moves in the following way:\n",
    "```\n",
    "A Y\n",
    "B X\n",
    "C Z\n",
    "B X\n",
    "```\n",
    "At first I understood that it tells me what to play (X, Y or Z) when the opponent plays A, B or C (**part 1**) but after applying the rules and playing for a while, I was tipped that the X, Y and Z tell me whether I should win, draw or lose (**part 2**) - otherwise the player in possession of the book is too overpowered and others will get suspicious."
   ]
  },
  {
   "cell_type": "code",
   "execution_count": 6,
   "id": "3985855e",
   "metadata": {},
   "outputs": [
    {
     "name": "stdout",
     "output_type": "stream",
     "text": [
      "Part1:  17189\n",
      "Part2:  13490\n"
     ]
    }
   ],
   "source": [
    "INPUT = \"../resources/Day2Input.txt\"\n",
    "\n",
    "pointsOne = {\n",
    "    'A X': 4,  # rock, rock\n",
    "    'A Y': 8,  # rock, paper\n",
    "    'A Z': 3,  # rock, sci\n",
    "    'B X': 1,  # paper, rock\n",
    "    'B Y': 5,  # paper, paper\n",
    "    'B Z': 9,  # paper, sci\n",
    "    'C X': 7,  # sci, rock\n",
    "    'C Y': 2,  # sci, paper\n",
    "    'C Z': 6,  # sci, sci\n",
    "}\n",
    "\n",
    "count = 0\n",
    "\n",
    "with open(INPUT) as f:\n",
    "    for line in f:\n",
    "        entry = line.strip()\n",
    "        count += pointsOne[entry]\n",
    "\n",
    "print(\"Part1: \", count)\n",
    "\n",
    "pointsTwo = {\n",
    "    'A X': 3,  # rock, rock\n",
    "    'A Y': 4,  # rock, paper\n",
    "    'A Z': 8,  # rock, sci\n",
    "    'B X': 1,  # paper, rock\n",
    "    'B Y': 5,  # paper, paper\n",
    "    'B Z': 9,  # paper, sci\n",
    "    'C X': 2,  # sci, rock\n",
    "    'C Y': 6,  # sci, paper\n",
    "    'C Z': 7,  # sci, sci\n",
    "}\n",
    "\n",
    "count = 0\n",
    "\n",
    "with open(INPUT) as f:\n",
    "    for line in f:\n",
    "        entry = line.strip()\n",
    "        count += pointsTwo[entry]\n",
    "\n",
    "print(\"Part2: \", count)"
   ]
  },
  {
   "cell_type": "markdown",
   "id": "02c7b6bc",
   "metadata": {},
   "source": [
    "Thanks to the book, I got just enough points to get the best possible spot.\n",
    "\n",
    "---\n",
    "## Day 3\n",
    "We began the next day by packing the supplies for the long march into the heart of the island. Every piece of equipment put in the rucksack had a corresponding letter - however I noticed all the uppercase letters were just snacks and sweets. Anyway, _Each rucksack has two large compartments. All items of a given type are meant to go into exactly one of the two compartments._ We then listed the items for each elf as follows:\n",
    "```\n",
    "vJrwpWtwJgWrhcsFMMfFFhFp\n",
    "jqHRNqRjqzjGDLGLrsFMfFZSrLrFZsSL\n",
    "PmmdzqPrVvPwwTWBwg\n",
    "wMqvLMZHhHMvwLHjbvcjnnSBnvTQFn\n",
    "ttgJtRGJQctTZtZT\n",
    "CrZsJsPPZsGzwwsLwLmpwMDw\n",
    "```\n",
    "The first half of each string represents the first compartment, the second half represents the second. I noticed immediately that the elves messed up by packing exactly one item into both compartments. \n",
    "**Part 1:** I decided to find the duplicated item for each elf and prioritize item rearangement using each item's priority (which, luckily, corresponded to its alphabetic key).\n",
    "**Part 2:** I was then told that every trio of elves shold have exacly one common item to identify the trio. They obviously had no clue what that item is, so I needed to find it and report its priority."
   ]
  },
  {
   "cell_type": "code",
   "execution_count": 7,
   "id": "9b61d002",
   "metadata": {},
   "outputs": [
    {
     "name": "stdout",
     "output_type": "stream",
     "text": [
      "Part one:  8185\n",
      "Part two:  2817\n"
     ]
    }
   ],
   "source": [
    "def priority(c):\n",
    "    lower_case_prio = ord(str.lower(c)) - ord('a') + 1\n",
    "    if str.islower(c):\n",
    "        return lower_case_prio\n",
    "    else:\n",
    "        return lower_case_prio + 26\n",
    "\n",
    "\n",
    "INPUT = \"../resources/Day3Input.txt\"\n",
    "\n",
    "with open(INPUT) as f:\n",
    "    lines = f.readlines()\n",
    "\n",
    "characters = []\n",
    "result = 0\n",
    "\n",
    "for line in lines:\n",
    "    midpoint = len(line) // 2\n",
    "    left, right = line[:midpoint], line[midpoint:]\n",
    "    for char in list(left):\n",
    "        if char in right:\n",
    "            result += priority(char)\n",
    "            break\n",
    "\n",
    "print(\"Part one: \", result)\n",
    "\n",
    "i = 0\n",
    "\n",
    "result = 0\n",
    "while i < len(lines):\n",
    "    for char in lines[i]:\n",
    "        if char in lines[i + 1] and char in lines[i + 2]:\n",
    "            result += priority(char)\n",
    "            break\n",
    "    i += 3\n",
    "\n",
    "print(\"Part two: \", result)"
   ]
  },
  {
   "cell_type": "markdown",
   "id": "c9dd9095",
   "metadata": {},
   "source": [
    "As the supplies were getting ready, elves started cleaning up the mess they made during Rock, Paper, Scissors game. \n",
    "\n",
    "_It has to be mentioned that elves did not play using gestures. They actually brought the items and played the game by cutting sheets of paper, breaking scissors and wrapping stones in paper. I couldn't take two steps without stepping on a piece of scissors..._\n",
    "\n",
    "---\n",
    "## Day 4\n",
    "As with any group activity, the cleanup started with a raw. The head elf **Merrysocks** assigned every pair of elves a plot of land to clean and apparently they were overlapping. While Merrysocks hoped this would cause sunergy and promote teamwork, it only caused general confusion. The plot of land assignments looked like this:\n",
    "```\n",
    "2-4,6-8\n",
    "2-3,4-5\n",
    "5-7,7-9\n",
    "2-8,3-7\n",
    "6-6,4-6\n",
    "2-6,4-8\n",
    "```\n",
    "Where the first pair was responsible for plots from from 2 to 4 and from 6 to 8. At first I searched for cases in which one of the elves had the area completely contained with the area of the other elf (**Part 1**) and then I searched for any overlapping (**Part 2**)."
   ]
  },
  {
   "cell_type": "code",
   "execution_count": null,
   "id": "286bc18a",
   "metadata": {},
   "outputs": [],
   "source": []
  }
 ],
 "metadata": {
  "kernelspec": {
   "display_name": "Python 3 (ipykernel)",
   "language": "python",
   "name": "python3"
  },
  "language_info": {
   "codemirror_mode": {
    "name": "ipython",
    "version": 3
   },
   "file_extension": ".py",
   "mimetype": "text/x-python",
   "name": "python",
   "nbconvert_exporter": "python",
   "pygments_lexer": "ipython3",
   "version": "3.9.5"
  }
 },
 "nbformat": 4,
 "nbformat_minor": 5
}
